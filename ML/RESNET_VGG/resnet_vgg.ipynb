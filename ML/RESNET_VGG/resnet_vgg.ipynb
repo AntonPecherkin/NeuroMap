{
 "cells": [
  {
   "cell_type": "markdown",
   "metadata": {},
   "source": [
    "# Идея\n",
    "\n",
    "Для человека не составит труда определить по спутниковому снимку плотность застройки, примерную численость населения в данном квадрате, или, например, торговый центр в котором в выходной день всегда много народа. Все эти признаки прямо или косвенно влияют на количество экстренных вызовов из данной области.\n",
    "\n",
    "Картинка для привлечения внимания! Снизу представлены две области, на первой из них сетка дала достаточно низкий результат по звонкам а на второй очень высокий =) \n",
    "\n",
    "<img src=\"least_call.png\" width=\"300\">\n",
    "<img src=\"most_call.png\" width=\"300\"> "
   ]
  },
  {
   "cell_type": "markdown",
   "metadata": {},
   "source": [
    "# 1) Загрузка текстовых данных <a name='1'></a>"
   ]
  },
  {
   "cell_type": "code",
   "execution_count": 480,
   "metadata": {
    "collapsed": false
   },
   "outputs": [],
   "source": [
    "import os\n",
    "os.environ[\"CUDA_VISIBLE_DEVICES\"]=\"0\"\n",
    "\n",
    "import pandas \n",
    "\n",
    "df_zones = pandas.read_json('whole_MOSCOW.json')\n"
   ]
  },
  {
   "cell_type": "code",
   "execution_count": 482,
   "metadata": {
    "collapsed": false
   },
   "outputs": [
    {
     "data": {
      "text/html": [
       "<div>\n",
       "<style>\n",
       "    .dataframe thead tr:only-child th {\n",
       "        text-align: right;\n",
       "    }\n",
       "\n",
       "    .dataframe thead th {\n",
       "        text-align: left;\n",
       "    }\n",
       "\n",
       "    .dataframe tbody tr th {\n",
       "        vertical-align: top;\n",
       "    }\n",
       "</style>\n",
       "<table border=\"1\" class=\"dataframe\">\n",
       "  <thead>\n",
       "    <tr style=\"text-align: right;\">\n",
       "      <th></th>\n",
       "      <th>calls_wd0</th>\n",
       "      <th>calls_wd1</th>\n",
       "      <th>calls_wd2</th>\n",
       "      <th>calls_wd3</th>\n",
       "      <th>calls_wd4</th>\n",
       "      <th>calls_wd5</th>\n",
       "      <th>calls_wd6</th>\n",
       "      <th>lat_c</th>\n",
       "      <th>lon_c</th>\n",
       "    </tr>\n",
       "  </thead>\n",
       "  <tbody>\n",
       "    <tr>\n",
       "      <th>0</th>\n",
       "      <td>0.003006</td>\n",
       "      <td>0.000000e+00</td>\n",
       "      <td>6.885802e-04</td>\n",
       "      <td>0.003006</td>\n",
       "      <td>0.000000e+00</td>\n",
       "      <td>0.001374</td>\n",
       "      <td>0.007052</td>\n",
       "      <td>55.380482</td>\n",
       "      <td>37.003077</td>\n",
       "    </tr>\n",
       "    <tr>\n",
       "      <th>1</th>\n",
       "      <td>0.000765</td>\n",
       "      <td>0.000000e+00</td>\n",
       "      <td>1.176913e-03</td>\n",
       "      <td>0.000765</td>\n",
       "      <td>0.000000e+00</td>\n",
       "      <td>0.001374</td>\n",
       "      <td>0.002818</td>\n",
       "      <td>55.380514</td>\n",
       "      <td>37.010966</td>\n",
       "    </tr>\n",
       "    <tr>\n",
       "      <th>2</th>\n",
       "      <td>0.001322</td>\n",
       "      <td>0.000000e+00</td>\n",
       "      <td>1.020885e-03</td>\n",
       "      <td>0.001322</td>\n",
       "      <td>0.000000e+00</td>\n",
       "      <td>0.001374</td>\n",
       "      <td>0.003871</td>\n",
       "      <td>55.380545</td>\n",
       "      <td>37.018855</td>\n",
       "    </tr>\n",
       "    <tr>\n",
       "      <th>3</th>\n",
       "      <td>0.000815</td>\n",
       "      <td>0.000000e+00</td>\n",
       "      <td>7.802124e-04</td>\n",
       "      <td>0.000815</td>\n",
       "      <td>0.000000e+00</td>\n",
       "      <td>0.001374</td>\n",
       "      <td>0.002912</td>\n",
       "      <td>55.380576</td>\n",
       "      <td>37.026744</td>\n",
       "    </tr>\n",
       "    <tr>\n",
       "      <th>4</th>\n",
       "      <td>0.000783</td>\n",
       "      <td>1.822000e-07</td>\n",
       "      <td>7.287000e-07</td>\n",
       "      <td>0.000782</td>\n",
       "      <td>8.602000e-07</td>\n",
       "      <td>0.001374</td>\n",
       "      <td>0.002851</td>\n",
       "      <td>55.380606</td>\n",
       "      <td>37.034633</td>\n",
       "    </tr>\n",
       "  </tbody>\n",
       "</table>\n",
       "</div>"
      ],
      "text/plain": [
       "   calls_wd0     calls_wd1     calls_wd2  calls_wd3     calls_wd4  calls_wd5  \\\n",
       "0   0.003006  0.000000e+00  6.885802e-04   0.003006  0.000000e+00   0.001374   \n",
       "1   0.000765  0.000000e+00  1.176913e-03   0.000765  0.000000e+00   0.001374   \n",
       "2   0.001322  0.000000e+00  1.020885e-03   0.001322  0.000000e+00   0.001374   \n",
       "3   0.000815  0.000000e+00  7.802124e-04   0.000815  0.000000e+00   0.001374   \n",
       "4   0.000783  1.822000e-07  7.287000e-07   0.000782  8.602000e-07   0.001374   \n",
       "\n",
       "   calls_wd6      lat_c      lon_c  \n",
       "0   0.007052  55.380482  37.003077  \n",
       "1   0.002818  55.380514  37.010966  \n",
       "2   0.003871  55.380545  37.018855  \n",
       "3   0.002912  55.380576  37.026744  \n",
       "4   0.002851  55.380606  37.034633  "
      ]
     },
     "execution_count": 482,
     "metadata": {},
     "output_type": "execute_result"
    }
   ],
   "source": [
    "df_zones.head()"
   ]
  },
  {
   "cell_type": "markdown",
   "metadata": {},
   "source": [
    "# 2) Загрузка \"спутниковых\" снимков <a name='2'></a>"
   ]
  },
  {
   "cell_type": "markdown",
   "metadata": {},
   "source": [
    "Итоговые картинки имеют размер 512х512 и физические размеры квадрата со стороной около 500 метров"
   ]
  },
  {
   "cell_type": "code",
   "execution_count": 483,
   "metadata": {
    "collapsed": true
   },
   "outputs": [],
   "source": [
    "from PIL import Image\n",
    "import urllib\n",
    "import os\n",
    "\n",
    "def load_img(x,y,i):\n",
    "\n",
    "    width, height = 512,512\n",
    "    #Create a new image of the size require\n",
    "    map_img = Image.new('RGB', (width,height))\n",
    "    \n",
    "    url = 'https://maps.googleapis.com/maps/api/staticmap?maptype=satellite&center={},{}&zoom=16&scale=2&size=512x512&key=your_api_key'.format(str(x),str(y))\n",
    "    \n",
    "    current_tile = str(x)+'-'+str(y)\n",
    "    urllib.request.urlretrieve(url, current_tile)\n",
    "    \n",
    "    im = Image.open(current_tile)\n",
    "    map_img.paste(im)\n",
    "    os.remove(current_tile)\n",
    "    map_img.save(\"photos/{}.png\".format(i))\n",
    "    "
   ]
  },
  {
   "cell_type": "markdown",
   "metadata": {},
   "source": [
    "В данном примере я обкачиваю только квадраты, которые имеют target == 1. Можно также попробовать обкачать все данные и использовать их в обучении."
   ]
  },
  {
   "cell_type": "code",
   "execution_count": 484,
   "metadata": {
    "collapsed": true
   },
   "outputs": [],
   "source": [
    "df_zones_for_nn = df_zones"
   ]
  },
  {
   "cell_type": "code",
   "execution_count": 486,
   "metadata": {
    "collapsed": false
   },
   "outputs": [],
   "source": [
    "import tqdm\n",
    "\n",
    "for i in tqdm.tqdm(df_zones_for_nn.iterrows()):\n",
    "    load_img(i[1][-2],i[1][-1],str(i[0]))\n",
    "    "
   ]
  },
  {
   "cell_type": "markdown",
   "metadata": {},
   "source": [
    "# 3) Тренировка нейросети <a name='3'></a>"
   ]
  },
  {
   "cell_type": "markdown",
   "metadata": {},
   "source": [
    "В качестве таргета может выступать как среднее количество звонков по всем дням недели, так и отдельно по рабочим и выходным дням(два выхода или даже две отдельные модели). Также можно сделать 7 выходов по всем дням недели. В данном примере будет рассмотрены только среднее количество звонков по всем дням."
   ]
  },
  {
   "cell_type": "code",
   "execution_count": 20,
   "metadata": {
    "collapsed": false
   },
   "outputs": [
    {
     "name": "stdout",
     "output_type": "stream",
     "text": [
      "(4374,)\n"
     ]
    }
   ],
   "source": [
    "X = df_zones.query('is_test == 0 & is_target == 1').index.values\n",
    "print(X.shape)\n",
    "y =  df_zones.query('is_test == 0 & is_target == 1')[['calls_daily']].values"
   ]
  },
  {
   "cell_type": "code",
   "execution_count": 46,
   "metadata": {
    "collapsed": true
   },
   "outputs": [],
   "source": [
    "# преобразование таргет переменной\n",
    "y = np.log1p(y)"
   ]
  },
  {
   "cell_type": "code",
   "execution_count": 48,
   "metadata": {
    "collapsed": false
   },
   "outputs": [
    {
     "name": "stdout",
     "output_type": "stream",
     "text": [
      "(3936,)\n",
      "(3936, 1)\n",
      "(438,)\n",
      "(438, 1)\n"
     ]
    }
   ],
   "source": [
    "from sklearn.model_selection import train_test_split\n",
    "\n",
    "X_train, X_test, y_train, y_test = train_test_split(X, y, test_size=0.1, random_state=0)\n",
    "\n",
    "print(X_train.shape)\n",
    "print(y_train.shape)\n",
    "print(X_test.shape)\n",
    "print(y_test.shape)"
   ]
  },
  {
   "cell_type": "code",
   "execution_count": 487,
   "metadata": {
    "collapsed": false
   },
   "outputs": [
    {
     "name": "stderr",
     "output_type": "stream",
     "text": [
      "Using TensorFlow backend.\n"
     ]
    }
   ],
   "source": [
    "from PIL import Image\n",
    "from keras.utils import Sequence\n",
    "\n",
    "\n",
    "def load_img_as_array(img_path):\n",
    "    \n",
    "    img = Image.open('photos/'+img_path+'.png')\n",
    "    \n",
    "    return np.asarray(img)\n",
    "\n",
    "\n",
    "class DataGen(Sequence):\n",
    "    def __init__(self, xx, yy, batch_size):\n",
    "        self.xx = xx\n",
    "        self.yy = yy\n",
    "        self.batch_size = batch_size\n",
    "\n",
    "    \n",
    "    def __len__(self):\n",
    "        return len(self.xx) // self.batch_size\n",
    "    \n",
    "    def __getitem__(self, i):\n",
    "        X_list = []\n",
    "        for j in range(self.batch_size):\n",
    "            \n",
    "                x = load_img_as_array(str(self.xx[i*self.batch_size + j]))\n",
    "                X_list.append(x)\n",
    "        \n",
    "        X_batch = np.array(X_list)\n",
    "        y_batch = self.yy[i*self.batch_size:(i+1)*self.batch_size]\n",
    "        \n",
    "        return X_batch, y_batch"
   ]
  },
  {
   "cell_type": "code",
   "execution_count": 488,
   "metadata": {
    "collapsed": true
   },
   "outputs": [],
   "source": [
    "from keras.models import Model,Input\n",
    "from keras.layers import Dense, Dropout, Reshape, Concatenate\n",
    "from keras.applications.resnet50 import ResNet50\n",
    "\n",
    "def create_model(crop_size):\n",
    "    \n",
    "    base_model = ResNet50(include_top=False, weights='imagenet', input_shape=(crop_size, crop_size, 3),pooling='max')    \n",
    "    \n",
    "    output_1 = base_model.output\n",
    "    \n",
    "     \n",
    "    x = Dense(2048, activation='relu', name='fc1')(output_1)\n",
    "    x = Dropout(0.3, name='dropout_fc1')(x)\n",
    "    x = Dense(512, activation='relu', name='fc2')(x)\n",
    "    x = Dropout(0.3, name='dropout_fc2')(x)\n",
    "    x = Dense(64, activation='relu', name='fc3')(x)\n",
    "    x = Dropout(0.3, name='dropout_fc3')(x)\n",
    "    predictions = Dense(1, activation=\"linear\", name='predictions')(x)\n",
    "\n",
    "    model = Model(inputs=base_model.input, outputs=predictions)    \n",
    "    #model.summary()\n",
    "    \n",
    "    return model"
   ]
  },
  {
   "cell_type": "code",
   "execution_count": 489,
   "metadata": {
    "collapsed": false
   },
   "outputs": [],
   "source": [
    "CROP_SIZE = 512\n",
    "\n",
    "model = create_model(CROP_SIZE)"
   ]
  },
  {
   "cell_type": "code",
   "execution_count": null,
   "metadata": {
    "collapsed": true
   },
   "outputs": [],
   "source": [
    "from keras.callbacks import EarlyStopping, ModelCheckpoint, ReduceLROnPlateau,TensorBoard\n",
    "from keras.optimizers import Adam\n",
    "\n",
    "model_folder = './models_experiment'\n",
    "model_name = 'calls_daily_nn_resnet50'\n",
    "batch_size = 8\n",
    "\n",
    "opt = Adam(lr=1e-4)\n",
    "model.compile(optimizer=opt, loss='mse', metrics=['mse'])\n",
    "\n",
    "monitor = 'val_mean_squared_error'\n",
    "model_path = os.path.join(model_folder, model_name + '-epoch-{epoch:03d}' + '-val_mse-{val_mean_squared_error:.3f}' + '.hdf5')\n",
    "\n",
    "reduce_lr = ReduceLROnPlateau(monitor=monitor, factor=0.5, patience=1, min_lr=1e-9, epsilon = 0.00001, verbose=1)\n",
    "model_checkpoint = ModelCheckpoint(model_path, monitor=monitor, save_best_only=True, verbose=0)\n",
    "early_stopping = EarlyStopping(monitor='val_mean_squared_error', patience=5, verbose=0)\n",
    "\n",
    "\n",
    "callbacks = [reduce_lr, early_stopping, model_checkpoint]\n",
    "\n",
    "history = model.fit_generator(\n",
    "    generator=DataGen(X_train, y_train, batch_size),\n",
    "    steps_per_epoch=len(X_train)//batch_size,\n",
    "    epochs=1000,\n",
    "    \n",
    "    validation_data=DataGen(X_test, y_test, batch_size),\n",
    "    validation_steps=len(X_test)//batch_size,\n",
    "\n",
    "    callbacks=callbacks,\n",
    "    max_queue_size = 10,\n",
    "    workers=4)"
   ]
  },
  {
   "cell_type": "markdown",
   "metadata": {},
   "source": [
    "# 4) Предсказания модели <a name='4'></a>"
   ]
  },
  {
   "cell_type": "markdown",
   "metadata": {},
   "source": [
    "Валидация"
   ]
  },
  {
   "cell_type": "code",
   "execution_count": null,
   "metadata": {
    "collapsed": true
   },
   "outputs": [],
   "source": [
    "from keras.models import load_model\n",
    "import glob\n",
    "\n",
    "model_folder = './models_experiment'\n",
    "\n",
    "models = glob.glob(os.path.join(model_folder, 'calls_daily_nn_resnet50*.hdf5'))\n",
    "\n",
    "print(sorted(models)[-1])\n",
    "loaded_model = load_model(sorted(models)[-1])\n",
    "print(\"Loaded model from disk\")"
   ]
  },
  {
   "cell_type": "code",
   "execution_count": null,
   "metadata": {
    "collapsed": true
   },
   "outputs": [],
   "source": [
    "pred_val = loaded_model.predict_generator(DataGen(X_test, y_test, df_features.loc[X_test, :], 1))"
   ]
  },
  {
   "cell_type": "code",
   "execution_count": 42,
   "metadata": {
    "collapsed": false
   },
   "outputs": [
    {
     "name": "stdout",
     "output_type": "stream",
     "text": [
      "Validation score: 0.6586098635104689\n"
     ]
    }
   ],
   "source": [
    "from scipy.stats import kendalltau\n",
    "\n",
    "valid_score = kendalltau(y_test, pred_val).correlation\n",
    "print('Validation score:', valid_score)"
   ]
  },
  {
   "cell_type": "markdown",
   "metadata": {},
   "source": [
    "Предсказания для теста"
   ]
  },
  {
   "cell_type": "code",
   "execution_count": 38,
   "metadata": {
    "collapsed": false
   },
   "outputs": [
    {
     "name": "stdout",
     "output_type": "stream",
     "text": [
      "8473/8473 [==============================] - 386s 46ms/step\n"
     ]
    }
   ],
   "source": [
    "idx_test = df_zones.query('is_test == 1').index\n",
    "\n",
    "pred_test = loaded_model_bow.predict_generator(DataGen(idx_test, idx_test, df_features.loc[idx_test, :], 1),verbose = 1)"
   ]
  },
  {
   "cell_type": "code",
   "execution_count": 39,
   "metadata": {
    "collapsed": true
   },
   "outputs": [],
   "source": [
    "pred_test = pred_test.reshape(-1)"
   ]
  },
  {
   "cell_type": "code",
   "execution_count": null,
   "metadata": {
    "collapsed": true
   },
   "outputs": [],
   "source": [
    "target_columns = ['calls_wd{}'.format(d) for d in range(7)]\n",
    "df_test_predictions = pandas.DataFrame(collections.OrderedDict([\n",
    "    (column_name, pred_test)\n",
    "    for column_name in target_columns\n",
    "]), index=idx_test)\n",
    "\n",
    "df_test_predictions.to_csv('sample_submission.csv')\n",
    "df_test_predictions.head(5)"
   ]
  },
  {
   "cell_type": "markdown",
   "metadata": {},
   "source": [
    "# 5) Заключение <a name='5'></a>"
   ]
  },
  {
   "cell_type": "markdown",
   "metadata": {},
   "source": [
    "Был рассмотрен один из возможных подходов использования спутниковых снимков для предсказания количества экстренных вызовов из заданного квадрата. Можно поэкспериментировать и попробовать следующее:\n",
    "\n",
    "- Другая архитектруа нейросети\n",
    "- Добавить еще других текстовых признаков\n",
    "- Другая функция потерь (MAE или даже попробовать ранжирование)\n",
    "- Докинуть различных аугментаций (сейчас только горизонтальные и вертикальные флипы)\n",
    "- Другое приобразование целевой переменной (Бокса-Кокса)\n"
   ]
  },
  {
   "cell_type": "code",
   "execution_count": null,
   "metadata": {
    "collapsed": true
   },
   "outputs": [],
   "source": []
  }
 ],
 "metadata": {
  "kernelspec": {
   "display_name": "Python 2",
   "language": "python",
   "name": "python2"
  },
  "language_info": {
   "codemirror_mode": {
    "name": "ipython",
    "version": 2
   },
   "file_extension": ".py",
   "mimetype": "text/x-python",
   "name": "python",
   "nbconvert_exporter": "python",
   "pygments_lexer": "ipython2",
   "version": "2.7.11"
  }
 },
 "nbformat": 4,
 "nbformat_minor": 2
}
